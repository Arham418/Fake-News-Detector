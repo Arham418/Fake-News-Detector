{
 "cells": [
  {
   "cell_type": "code",
   "execution_count": 4,
   "id": "fa8ca38f-675b-447f-bc98-804aa7bb3242",
   "metadata": {},
   "outputs": [
    {
     "name": "stderr",
     "output_type": "stream",
     "text": [
      "[nltk_data] Downloading package stopwords to E:\\Python\\nltk_data...\n",
      "[nltk_data]   Package stopwords is already up-to-date!\n",
      "[nltk_data] Downloading package wordnet to E:\\Python\\nltk_data...\n",
      "[nltk_data]   Package wordnet is already up-to-date!\n"
     ]
    },
    {
     "data": {
      "text/plain": [
       "True"
      ]
     },
     "execution_count": 4,
     "metadata": {},
     "output_type": "execute_result"
    }
   ],
   "source": [
    "# Import necessary libraries\n",
    "import pandas as pd\n",
    "import string\n",
    "import nltk\n",
    "import joblib\n",
    "\n",
    "from nltk.corpus import stopwords\n",
    "from nltk.stem import WordNetLemmatizer\n",
    "from sklearn.model_selection import train_test_split\n",
    "from sklearn.feature_extraction.text import TfidfVectorizer\n",
    "from sklearn.naive_bayes import MultinomialNB\n",
    "from sklearn.metrics import accuracy_score\n",
    "\n",
    "# Download NLTK resources\n",
    "nltk.download('stopwords')\n",
    "nltk.download('wordnet')\n"
   ]
  },
  {
   "cell_type": "code",
   "execution_count": 6,
   "id": "86445f56-f623-40f6-9efe-d6416083956d",
   "metadata": {},
   "outputs": [],
   "source": [
    "# Load dataset with full paths\n",
    "df_fake = pd.read_csv(r'E:\\jupyter notebooks\\Task3\\Fake.csv')  # Fake news dataset\n",
    "df_real = pd.read_csv(r'E:\\jupyter notebooks\\Task3\\True.csv')  # Real news dataset\n",
    "\n",
    "# Add labels\n",
    "df_fake['label'] = 0  # Fake news label\n",
    "df_real['label'] = 1  # Real news label"
   ]
  },
  {
   "cell_type": "code",
   "execution_count": 7,
   "id": "adb3fdfe-e7bd-4c99-aa37-a4b3b1d90e90",
   "metadata": {},
   "outputs": [],
   "source": [
    "# Sample 1,000 articles from each category\n",
    "fake_sample = df_fake.sample(n=1000, random_state=42)  # Randomly select 1k fake articles\n",
    "real_sample = df_real.sample(n=1000, random_state=42)  # Randomly select 1k real articles\n",
    "\n",
    "# Combine the sampled datasets\n",
    "df = pd.concat([fake_sample, real_sample], ignore_index=True)  # Merge samples\n",
    "df = df.sample(frac=1, random_state=42).reset_index(drop=True)  # Shuffle data"
   ]
  },
  {
   "cell_type": "code",
   "execution_count": 9,
   "id": "5cb41d14-accf-4a98-90da-2131e86f28ab",
   "metadata": {},
   "outputs": [],
   "source": [
    "# Initialize stop words and lemmatizer\n",
    "stop_words = set(stopwords.words('english'))\n",
    "lemmatizer = WordNetLemmatizer()\n",
    "\n",
    "# Define text cleaning function\n",
    "def clean_text(text):\n",
    "    if isinstance(text, str):  # Ensure it's a string before processing\n",
    "        # Remove punctuation and convert to lowercase\n",
    "        text = text.lower().translate(str.maketrans('', '', string.punctuation))\n",
    "        # Tokenize, remove stopwords, and lemmatize\n",
    "        words = [lemmatizer.lemmatize(word) for word in text.split() if word not in stop_words]\n",
    "        return ' '.join(words)\n",
    "    else:\n",
    "        return ''  # Return empty string if not a valid text\n",
    "\n",
    "# Apply the cleaning function\n",
    "df['cleaned_text'] = df['text'].apply(clean_text)\n"
   ]
  },
  {
   "cell_type": "code",
   "execution_count": 10,
   "id": "fe5a9ebe-654b-4a1b-b0e9-09f3753152b2",
   "metadata": {},
   "outputs": [],
   "source": [
    "# Vectorize text using TF-IDF\n",
    "vectorizer = TfidfVectorizer(max_features=5000)\n",
    "X = vectorizer.fit_transform(df['cleaned_text'])  # Transform cleaned text into numerical data\n",
    "y = df['label']  # Labels (0 for fake, 1 for real)"
   ]
  },
  {
   "cell_type": "code",
   "execution_count": 11,
   "id": "ef8ed465-646f-4dc5-bfb1-ff757e3cdd32",
   "metadata": {},
   "outputs": [],
   "source": [
    "# Split data into training and testing sets\n",
    "X_train, X_test, y_train, y_test = train_test_split(X, y, test_size=0.2, random_state=42)"
   ]
  },
  {
   "cell_type": "code",
   "execution_count": 12,
   "id": "84a31f5c-59f6-407c-ab82-6e990960d078",
   "metadata": {},
   "outputs": [
    {
     "name": "stdout",
     "output_type": "stream",
     "text": [
      "Accuracy: 0.935\n"
     ]
    }
   ],
   "source": [
    "# Train a Naïve Bayes model\n",
    "model = MultinomialNB()\n",
    "model.fit(X_train, y_train)  # Train the model\n",
    "\n",
    "# Make predictions and evaluate accuracy\n",
    "y_pred = model.predict(X_test)  # Predict on test data\n",
    "print(\"Accuracy:\", accuracy_score(y_test, y_pred))  # Print accuracy score"
   ]
  },
  {
   "cell_type": "code",
   "execution_count": 13,
   "id": "47453498-a0d3-4bd1-b344-9e4251bc24d7",
   "metadata": {},
   "outputs": [
    {
     "name": "stdout",
     "output_type": "stream",
     "text": [
      "Model and vectorizer saved!\n"
     ]
    }
   ],
   "source": [
    "# Save the trained model\n",
    "joblib.dump(model, 'model.pkl')\n",
    "\n",
    "# Save the TF-IDF vectorizer\n",
    "joblib.dump(vectorizer, 'vectorizer.pkl')\n",
    "\n",
    "print(\"Model and vectorizer saved!\")"
   ]
  },
  {
   "cell_type": "code",
   "execution_count": null,
   "id": "e8de546f-caa2-46a7-8dd7-2a1ee9e0f2ef",
   "metadata": {},
   "outputs": [],
   "source": []
  }
 ],
 "metadata": {
  "kernelspec": {
   "display_name": "Python 3 (ipykernel)",
   "language": "python",
   "name": "python3"
  },
  "language_info": {
   "codemirror_mode": {
    "name": "ipython",
    "version": 3
   },
   "file_extension": ".py",
   "mimetype": "text/x-python",
   "name": "python",
   "nbconvert_exporter": "python",
   "pygments_lexer": "ipython3",
   "version": "3.13.3"
  }
 },
 "nbformat": 4,
 "nbformat_minor": 5
}
